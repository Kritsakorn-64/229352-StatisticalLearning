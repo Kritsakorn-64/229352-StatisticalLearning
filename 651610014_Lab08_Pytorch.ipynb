{
  "cells": [
    {
      "cell_type": "markdown",
      "metadata": {
        "id": "view-in-github",
        "colab_type": "text"
      },
      "source": [
        "<a href=\"https://colab.research.google.com/github/Kritsakorn-64/229352-StatisticalLearning/blob/main/651610014_Lab08_Pytorch.ipynb\" target=\"_parent\"><img src=\"https://colab.research.google.com/assets/colab-badge.svg\" alt=\"Open In Colab\"/></a>"
      ]
    },
    {
      "cell_type": "markdown",
      "metadata": {
        "id": "q551vWsbkSON"
      },
      "source": [
        "### Statistical Learning for Data Science 2 (229352)\n",
        "#### Instructor: Donlapark Ponnoprat\n",
        "\n",
        "#### [Course website](https://donlapark.pages.dev/229352/)\n",
        "\n",
        "## Lab #8"
      ]
    },
    {
      "cell_type": "markdown",
      "metadata": {
        "id": "G-nQb7jGS3PJ"
      },
      "source": [
        "There are several deep learning frameworks in Python.\n",
        "\n",
        "<img src=\"https://upload.wikimedia.org/wikipedia/commons/thumb/c/c6/PyTorch_logo_black.svg/2560px-PyTorch_logo_black.svg.png\" width=\"100\"/>&nbsp;&nbsp;&nbsp;&nbsp;&nbsp;&nbsp;&nbsp;<img src=\"https://upload.wikimedia.org/wikipedia/commons/2/2d/Tensorflow_logo.svg\" width=\"40\"/><img src=\"https://assets-global.website-files.com/621e749a546b7592125f38ed/62277da165ed192adba475fc_JAX.jpg\" width=\"100\"/>\n",
        "\n",
        "In this Lab, we will use PyTorch"
      ]
    },
    {
      "cell_type": "code",
      "execution_count": 2,
      "metadata": {
        "id": "MzJSrt8CSv4p"
      },
      "outputs": [],
      "source": [
        "import numpy as np\n",
        "\n",
        "import torch"
      ]
    },
    {
      "cell_type": "markdown",
      "metadata": {
        "id": "QEsXce8XuwIW"
      },
      "source": [
        "# Tensor basics"
      ]
    },
    {
      "cell_type": "markdown",
      "metadata": {
        "id": "qr1d7mpfrQ-W"
      },
      "source": [
        "## Basic tensor creation"
      ]
    },
    {
      "cell_type": "markdown",
      "metadata": {
        "id": "zoo78UqZZBmo"
      },
      "source": [
        "### Creating a scalar (1D) tensor"
      ]
    },
    {
      "cell_type": "code",
      "execution_count": 3,
      "metadata": {
        "colab": {
          "base_uri": "https://localhost:8080/"
        },
        "id": "8QkirMVZUpfe",
        "outputId": "394ea598-4c82-462c-f8e4-11b553b52b82"
      },
      "outputs": [
        {
          "output_type": "stream",
          "name": "stdout",
          "text": [
            "tensor(8)\n",
            "tensor(9)\n",
            "tensor(17)\n"
          ]
        }
      ],
      "source": [
        "a = torch.tensor(8)\n",
        "b = torch.tensor(9)\n",
        "print(a)\n",
        "print(b)\n",
        "print(a+b)"
      ]
    },
    {
      "cell_type": "markdown",
      "metadata": {
        "id": "Y2D_T5PPZI4L"
      },
      "source": [
        "### Convert a tensor to scalar"
      ]
    },
    {
      "cell_type": "code",
      "execution_count": 4,
      "metadata": {
        "colab": {
          "base_uri": "https://localhost:8080/"
        },
        "id": "BSkS98iYXVZI",
        "outputId": "d054fca4-a602-4ace-90f7-f8603cc9f4f1"
      },
      "outputs": [
        {
          "output_type": "execute_result",
          "data": {
            "text/plain": [
              "8"
            ]
          },
          "metadata": {},
          "execution_count": 4
        }
      ],
      "source": [
        "a.item()"
      ]
    },
    {
      "cell_type": "markdown",
      "metadata": {
        "id": "wLUTVuu8ZPCV"
      },
      "source": [
        "### Creating 2D tensor"
      ]
    },
    {
      "cell_type": "code",
      "execution_count": 5,
      "metadata": {
        "colab": {
          "base_uri": "https://localhost:8080/"
        },
        "id": "ST-ZldGXX9SY",
        "outputId": "5833a926-f4aa-496f-b9b9-e585a7f4421a"
      },
      "outputs": [
        {
          "output_type": "stream",
          "name": "stdout",
          "text": [
            "tensor([[1, 2],\n",
            "        [3, 4]])\n"
          ]
        }
      ],
      "source": [
        "A = torch.tensor([[1, 2], [3, 4]])\n",
        "print(A)"
      ]
    },
    {
      "cell_type": "markdown",
      "metadata": {
        "id": "RL1rmhg8rVgY"
      },
      "source": [
        "## Tensor and Numpy"
      ]
    },
    {
      "cell_type": "markdown",
      "metadata": {
        "id": "1LSTMBVNZjAu"
      },
      "source": [
        "### Convert from tensor to numpy array"
      ]
    },
    {
      "cell_type": "code",
      "execution_count": 6,
      "metadata": {
        "colab": {
          "base_uri": "https://localhost:8080/"
        },
        "id": "I4LkkrQdYbLq",
        "outputId": "9bc8f903-daec-445a-fa87-2aa7ed1eabe4"
      },
      "outputs": [
        {
          "output_type": "execute_result",
          "data": {
            "text/plain": [
              "array([[1, 2],\n",
              "       [3, 4]])"
            ]
          },
          "metadata": {},
          "execution_count": 6
        }
      ],
      "source": [
        "A.numpy()"
      ]
    },
    {
      "cell_type": "markdown",
      "metadata": {
        "id": "xcFexnBYZn73"
      },
      "source": [
        "### Convert from numpy array to tensor"
      ]
    },
    {
      "cell_type": "code",
      "execution_count": 7,
      "metadata": {
        "colab": {
          "base_uri": "https://localhost:8080/"
        },
        "id": "lDRLWyGkZmjM",
        "outputId": "dc949ab1-9237-487f-a11f-618b0a4add95"
      },
      "outputs": [
        {
          "output_type": "stream",
          "name": "stdout",
          "text": [
            "tensor([[1, 2],\n",
            "        [3, 4]])\n"
          ]
        }
      ],
      "source": [
        "B = np.array([[1, 2], [3, 4]])\n",
        "\n",
        "C = torch.from_numpy(B)\n",
        "print(C)"
      ]
    },
    {
      "cell_type": "markdown",
      "metadata": {
        "id": "5bLYQUdDb47c"
      },
      "source": [
        "## Basic operations"
      ]
    },
    {
      "cell_type": "code",
      "execution_count": 8,
      "metadata": {
        "colab": {
          "base_uri": "https://localhost:8080/"
        },
        "id": "O1ZL-UgraQZG",
        "outputId": "38d3fcd5-941e-449f-d811-31335be94497"
      },
      "outputs": [
        {
          "output_type": "stream",
          "name": "stdout",
          "text": [
            "tensor([[2, 4],\n",
            "        [6, 8]])\n",
            "tensor([[-9, -8],\n",
            "        [-7, -6]])\n"
          ]
        }
      ],
      "source": [
        "D = 2*C\n",
        "\n",
        "E = C - 10\n",
        "\n",
        "print(D)\n",
        "print(E)"
      ]
    },
    {
      "cell_type": "markdown",
      "metadata": {
        "id": "K_k3thRzrdpd"
      },
      "source": [
        "### Matrix multiplication"
      ]
    },
    {
      "cell_type": "code",
      "execution_count": 9,
      "metadata": {
        "colab": {
          "base_uri": "https://localhost:8080/"
        },
        "id": "d1XwpoNaakY2",
        "outputId": "8d44274f-2cce-4a3c-b95c-15334bda1c85"
      },
      "outputs": [
        {
          "output_type": "stream",
          "name": "stdout",
          "text": [
            "tensor([[ -46,  -40],\n",
            "        [-110,  -96]])\n",
            "tensor([[ -46,  -40],\n",
            "        [-110,  -96]])\n",
            "tensor([[ -46,  -40],\n",
            "        [-110,  -96]])\n"
          ]
        }
      ],
      "source": [
        "print(torch.matmul(D, E))\n",
        "print(torch.mm(D, E))\n",
        "print(D @ E)"
      ]
    },
    {
      "cell_type": "markdown",
      "metadata": {
        "id": "TwJki4afrf0m"
      },
      "source": [
        "### Matrix transpose"
      ]
    },
    {
      "cell_type": "code",
      "execution_count": 10,
      "metadata": {
        "colab": {
          "base_uri": "https://localhost:8080/"
        },
        "id": "IumkARr4g3Nv",
        "outputId": "85e8584f-5136-4ab0-8320-f80d2d633abc"
      },
      "outputs": [
        {
          "output_type": "stream",
          "name": "stdout",
          "text": [
            "tensor([[1, 2],\n",
            "        [3, 4]])\n",
            "tensor([[1, 3],\n",
            "        [2, 4]])\n"
          ]
        }
      ],
      "source": [
        "print(C)\n",
        "print( C.t() )"
      ]
    },
    {
      "cell_type": "markdown",
      "metadata": {
        "id": "AuwWEOBYcbiL"
      },
      "source": [
        "## Creating a specific type of tensor"
      ]
    },
    {
      "cell_type": "code",
      "execution_count": 11,
      "metadata": {
        "id": "Vg757DJLaoqh"
      },
      "outputs": [],
      "source": [
        "# print(torch.zeros(2,3))\n",
        "# print(torch.ones(2,3))\n",
        "# print(torch.rand(2,3))\n",
        "# print(torch.randn(2,3))  # sample each number from N(0, 1)\n",
        "# print(torch.arange(9))"
      ]
    },
    {
      "cell_type": "markdown",
      "metadata": {
        "id": "aUeodCiLrofw"
      },
      "source": [
        "## Tensor's shape"
      ]
    },
    {
      "cell_type": "markdown",
      "metadata": {
        "id": "qJTX5WOHhVsB"
      },
      "source": [
        "### Checking the shape of a tensor"
      ]
    },
    {
      "cell_type": "code",
      "execution_count": 12,
      "metadata": {
        "colab": {
          "base_uri": "https://localhost:8080/"
        },
        "id": "Nzn5Lyqfhcmf",
        "outputId": "097d28d7-c5f0-4f68-9d2f-bc7b3db33d96"
      },
      "outputs": [
        {
          "output_type": "stream",
          "name": "stdout",
          "text": [
            "torch.Size([4, 5])\n",
            "torch.Size([4, 5])\n"
          ]
        }
      ],
      "source": [
        "F = torch.zeros((4, 5))\n",
        "print(F.shape)\n",
        "print(F.size())"
      ]
    },
    {
      "cell_type": "markdown",
      "metadata": {
        "id": "Vf21H-EvgE87"
      },
      "source": [
        "### Changing the shape of a tensor"
      ]
    },
    {
      "cell_type": "code",
      "execution_count": 13,
      "metadata": {
        "colab": {
          "base_uri": "https://localhost:8080/"
        },
        "id": "o71IJ7_ic1U8",
        "outputId": "57d8812c-edc2-4ee9-8617-0f6fc2d4b83d"
      },
      "outputs": [
        {
          "output_type": "stream",
          "name": "stdout",
          "text": [
            "tensor([[0, 1, 2],\n",
            "        [3, 4, 5]])\n",
            "tensor([[0, 1, 2],\n",
            "        [3, 4, 5]])\n"
          ]
        }
      ],
      "source": [
        "G = torch.arange(6)\n",
        "print(G.view(2, 3))\n",
        "print(G.reshape(2, 3))"
      ]
    },
    {
      "cell_type": "markdown",
      "metadata": {
        "id": "7nZgFYT5gd2_"
      },
      "source": [
        "In general, use `reshape`, but if you are worried about the memory usage, use `view`."
      ]
    },
    {
      "cell_type": "markdown",
      "metadata": {
        "id": "uEA3iRzznjNx"
      },
      "source": [
        "### Stacking and concatenating tensors"
      ]
    },
    {
      "cell_type": "code",
      "execution_count": 14,
      "metadata": {
        "colab": {
          "base_uri": "https://localhost:8080/"
        },
        "id": "MQ6JEjsmgbpI",
        "outputId": "b2c5e152-b542-4b96-9578-85e04190dab4"
      },
      "outputs": [
        {
          "output_type": "stream",
          "name": "stdout",
          "text": [
            "tensor([[0, 1, 2, 3, 4, 5],\n",
            "        [0, 1, 2, 3, 4, 5],\n",
            "        [0, 1, 2, 3, 4, 5],\n",
            "        [0, 1, 2, 3, 4, 5]])\n",
            "tensor([[0, 0, 0, 0],\n",
            "        [1, 1, 1, 1],\n",
            "        [2, 2, 2, 2],\n",
            "        [3, 3, 3, 3],\n",
            "        [4, 4, 4, 4],\n",
            "        [5, 5, 5, 5]])\n"
          ]
        }
      ],
      "source": [
        "H = torch.arange(6)\n",
        "I = torch.stack([H, H, H, H], axis=0)\n",
        "J = torch.stack([H, H, H, H], axis=1)\n",
        "print(I)\n",
        "print(J)"
      ]
    },
    {
      "cell_type": "code",
      "execution_count": 15,
      "metadata": {
        "colab": {
          "base_uri": "https://localhost:8080/"
        },
        "id": "Zkz--DJuXyD1",
        "outputId": "84480b1b-372f-4437-fcfe-f8efd5679673"
      },
      "outputs": [
        {
          "output_type": "stream",
          "name": "stdout",
          "text": [
            "tensor([0, 1, 2, 3, 4, 5, 0, 1, 2, 3, 4, 5, 0, 1, 2, 3, 4, 5, 0, 1, 2, 3, 4, 5])\n"
          ]
        }
      ],
      "source": [
        "# concatenate\n",
        "\n",
        "I = torch.cat([H, H, H, H], axis=0)\n",
        "print(I)\n",
        "# J = torch.cat([H, H, H, H], axis=1)\n",
        "#print(J)"
      ]
    },
    {
      "cell_type": "markdown",
      "metadata": {
        "id": "eWd_-Ub_pF3b"
      },
      "source": [
        "### Squeezing a tensor (removing an extra dimension)"
      ]
    },
    {
      "cell_type": "code",
      "execution_count": 16,
      "metadata": {
        "colab": {
          "base_uri": "https://localhost:8080/"
        },
        "id": "gf8iDb_PoX_4",
        "outputId": "72a575f8-d160-4bc6-dc50-852e331c9ba3"
      },
      "outputs": [
        {
          "output_type": "stream",
          "name": "stdout",
          "text": [
            "H= tensor([0, 1, 2, 3, 4, 5])\n",
            "K= tensor([[0, 1, 2, 3, 4, 5]])\n",
            "torch.Size([1, 6])\n"
          ]
        }
      ],
      "source": [
        "# [[1,2]] this is (1,2) tensor, want (2,)\n",
        "print(\"H=\", H) # shape = (6,)\n",
        "K = H.reshape(1,6)\n",
        "print(\"K=\", K)\n",
        "print(K.shape)"
      ]
    },
    {
      "cell_type": "code",
      "execution_count": 17,
      "metadata": {
        "colab": {
          "base_uri": "https://localhost:8080/"
        },
        "id": "Ke3ro96Cp7rT",
        "outputId": "1e7eb87c-9960-4a46-ecea-d28b2c88be6b"
      },
      "outputs": [
        {
          "output_type": "stream",
          "name": "stdout",
          "text": [
            "tensor([0, 1, 2, 3, 4, 5])\n"
          ]
        }
      ],
      "source": [
        "print(K.squeeze())"
      ]
    },
    {
      "cell_type": "code",
      "execution_count": 18,
      "metadata": {
        "colab": {
          "base_uri": "https://localhost:8080/"
        },
        "id": "DJxWfoyOqaQs",
        "outputId": "f8bd508b-ddbb-41c7-a598-25ca4c48e61c"
      },
      "outputs": [
        {
          "output_type": "stream",
          "name": "stdout",
          "text": [
            "tensor([[0, 1, 2, 3, 4, 5]])\n",
            "tensor([[0],\n",
            "        [1],\n",
            "        [2],\n",
            "        [3],\n",
            "        [4],\n",
            "        [5]])\n"
          ]
        }
      ],
      "source": [
        "# H.shape = (6, )\n",
        "L = H.unsqueeze(axis=0)  # L.shape(1, 6)\n",
        "M = H.unsqueeze(axis=1)  # L.shape(6, 1)\n",
        "print(L)\n",
        "print(M)"
      ]
    },
    {
      "cell_type": "markdown",
      "metadata": {
        "id": "bfaM--ZlsUsB"
      },
      "source": [
        "## Indexing"
      ]
    },
    {
      "cell_type": "code",
      "execution_count": 19,
      "metadata": {
        "colab": {
          "base_uri": "https://localhost:8080/"
        },
        "id": "fPqsnD8qsWsH",
        "outputId": "20ce50e8-777e-4d2a-fb2f-e79ebd5aaa53"
      },
      "outputs": [
        {
          "output_type": "stream",
          "name": "stdout",
          "text": [
            "tensor([[ 0,  1,  2,  3],\n",
            "        [ 4,  5,  6,  7],\n",
            "        [ 8,  9, 10, 11]])\n",
            "tensor([0, 1, 2, 3])\n",
            "tensor([0, 4, 8])\n",
            "tensor([ 8,  9, 10, 11])\n",
            "tensor([ 3,  7, 11])\n",
            "tensor([[ 4,  5,  6,  7],\n",
            "        [ 8,  9, 10, 11]])\n",
            "tensor([[ 2,  3],\n",
            "        [ 6,  7],\n",
            "        [10, 11]])\n"
          ]
        }
      ],
      "source": [
        "P = torch.arange(12).reshape(3,4)\n",
        "print(P)\n",
        "print(P[0])\n",
        "print(P[:, 0])\n",
        "print(P[-1])\n",
        "print(P[:, -1])\n",
        "print(P[-2:])\n",
        "print(P[:, -2:])"
      ]
    },
    {
      "cell_type": "markdown",
      "metadata": {
        "id": "ftVXJ-3ur9yk"
      },
      "source": [
        "## PyTorch and GPU"
      ]
    },
    {
      "cell_type": "markdown",
      "metadata": {
        "id": "2TmzZR23sKOW"
      },
      "source": [
        "check if GPU is available"
      ]
    },
    {
      "cell_type": "code",
      "execution_count": 20,
      "metadata": {
        "colab": {
          "base_uri": "https://localhost:8080/"
        },
        "id": "TSiXGmqrqyzw",
        "outputId": "c7b4a6be-2d5d-4cd2-9fdb-b86bfd3f4695"
      },
      "outputs": [
        {
          "output_type": "execute_result",
          "data": {
            "text/plain": [
              "True"
            ]
          },
          "metadata": {},
          "execution_count": 20
        }
      ],
      "source": [
        "torch.cuda.is_available()"
      ]
    },
    {
      "cell_type": "code",
      "execution_count": 21,
      "metadata": {
        "colab": {
          "base_uri": "https://localhost:8080/"
        },
        "id": "wjDt08_7sMxz",
        "outputId": "0d10e65a-8ae0-410a-b87a-6beb7f3139b4"
      },
      "outputs": [
        {
          "output_type": "stream",
          "name": "stdout",
          "text": [
            "cpu\n"
          ]
        }
      ],
      "source": [
        "Q = torch.tensor([1, 2, 3])\n",
        "print(Q.device)"
      ]
    },
    {
      "cell_type": "code",
      "execution_count": 22,
      "metadata": {
        "colab": {
          "base_uri": "https://localhost:8080/"
        },
        "id": "7BitUf-RtdG3",
        "outputId": "901d0e28-4d81-437c-bba0-c5fecb5a9235"
      },
      "outputs": [
        {
          "output_type": "stream",
          "name": "stdout",
          "text": [
            "cpu\n",
            "cuda:0\n"
          ]
        }
      ],
      "source": [
        "R = Q.to('cuda')\n",
        "print(Q.device)\n",
        "print(R.device)"
      ]
    },
    {
      "cell_type": "code",
      "execution_count": 23,
      "metadata": {
        "colab": {
          "base_uri": "https://localhost:8080/"
        },
        "id": "PbsTOQ-Itiax",
        "outputId": "bb825652-bce3-457e-ce9a-e168adc5f045"
      },
      "outputs": [
        {
          "output_type": "execute_result",
          "data": {
            "text/plain": [
              "array([1, 2, 3])"
            ]
          },
          "metadata": {},
          "execution_count": 23
        }
      ],
      "source": [
        "R.cpu().numpy()"
      ]
    },
    {
      "cell_type": "markdown",
      "metadata": {
        "id": "aZBZ3f66AFye"
      },
      "source": [
        "# Exercise\n",
        "\n",
        "In this exercise, we will simulate data to perform linear regression with 200 rows and 7 variables.\n",
        "\n",
        "1. Create three random $N(0,1)$ tensors: `X`, `b` and `e` with `X.shape = (200, 7)`, `b.shape = (8, 1)` and `e.shape = (200, 1)` respectively.\n",
        "2. Create a tensor that contains only 1's with shape `(200, 1)`.\n",
        "3. Modify tensor `X` by adding the tensor in 2. as the first column.\n",
        "4. Compute `y` using the following formula:\n",
        "$$ y = Xb + e $$.\n",
        "5. Fit a linear regression to the data `X` and `y` and obtain a tensor of estimated coefficient `b_hat`. The formula for `b_hat` is given by:\n",
        "$$ \\hat{b} = (X^TX)^{-1}X^Ty $$\n",
        "Note: use `torch.inverse(...)` to calculate the inverse\n",
        "6. Compute the predictions `y_hat`, given by:\n",
        "$$ \\hat{y} = X\\hat{b} $$\n",
        "7. Convert both `y` and `y_hat` from tensor to Numpy array and calculate MSE:\n",
        "$$ MSE = \\frac{1}{200}\\sum_{i=1}^{200} (y_i - \\hat{y}_i)^2 $$"
      ]
    },
    {
      "cell_type": "code",
      "execution_count": 24,
      "metadata": {
        "colab": {
          "base_uri": "https://localhost:8080/"
        },
        "id": "eQOsf3B_QnvN",
        "outputId": "17471eac-2880-4037-d15b-c5b4f2cc9f20"
      },
      "outputs": [
        {
          "output_type": "stream",
          "name": "stdout",
          "text": [
            "tensor([[2, 3, 2],\n",
            "        [4, 6, 7],\n",
            "        [7, 2, 4]])\n",
            "tensor([[1, 2, 3, 2],\n",
            "        [1, 4, 6, 7],\n",
            "        [1, 7, 2, 4]])\n"
          ]
        }
      ],
      "source": [
        "X = torch.tensor([[2, 3, 2], [4, 6, 7], [7, 2, 4]])\n",
        "print(X)\n",
        "\n",
        "X = torch.tensor([[1, 2, 3, 2], [1, 4, 6, 7], [1, 7, 2, 4]])\n",
        "print(X)"
      ]
    },
    {
      "cell_type": "code",
      "execution_count": 25,
      "metadata": {
        "id": "Qm_SlwkZQ_i1",
        "colab": {
          "base_uri": "https://localhost:8080/"
        },
        "outputId": "8a52456d-a906-44b5-f443-315c055f60d6"
      },
      "outputs": [
        {
          "output_type": "stream",
          "name": "stdout",
          "text": [
            "รูปทรงเทนเซอร์:\n",
            "  X (200×7):           (200, 7)\n",
            "  X_aug (200×8):       (200, 8)\n",
            "  b (8×1):             (8, 1)\n",
            "  e (200×1):           (200, 1)\n",
            "  y (200×1):           (200, 1)\n",
            "  b_hat (8×1):         (8, 1)\n",
            "  y_hat (200×1):       (200, 1)\n",
            "\n",
            "ค่าสัมประสิทธิ์ประมาณการ (b_hat):\n",
            "[ 0.25648442  1.2380497  -0.6500413  -0.7702414  -0.5806508  -0.7177034\n",
            " -0.43003368  1.2099187 ]\n",
            "\n",
            "MSE: 0.992750\n"
          ]
        }
      ],
      "source": [
        "# (1) สร้างเทนเซอร์สุ่มแจกแจง N(0,1)\n",
        "X = torch.randn(200, 7)\n",
        "b = torch.randn(8, 1)\n",
        "e = torch.randn(200, 1)\n",
        "\n",
        "# (2) สร้างเทนเซอร์ที่มีค่าเป็น 1 ทั้งหมด ขนาด (200, 1)\n",
        "ones = torch.ones(200, 1)\n",
        "\n",
        "# (3) เติมคอลัมน์ 1 เป็นคอลัมน์แรกของ X → ได้ X_aug ขนาด (200, 8)\n",
        "X_aug = torch.cat([ones, X], dim=1)\n",
        "\n",
        "# (4) คำนวณ y = Xb + e  (โดย X คือ X_aug)\n",
        "y = X_aug @ b + e\n",
        "\n",
        "# (5) ประมาณค่าสัมประสิทธิ์แบบปิดรูป (Closed-form OLS)\n",
        "XtX = X_aug.T @ X_aug\n",
        "XtX_inv = torch.inverse(XtX)\n",
        "Xty = X_aug.T @ y\n",
        "b_hat = XtX_inv @ Xty  # ขนาด (8, 1)\n",
        "\n",
        "# (6) คำนวณค่าพยากรณ์ y_hat = X b_hat\n",
        "y_hat = X_aug @ b_hat  # ขนาด (200, 1)\n",
        "\n",
        "# (7) แปลง y และ y_hat เป็น Numpy แล้วคำนวณ MSE\n",
        "y_np = y.detach().numpy()\n",
        "yhat_np = y_hat.detach().numpy()\n",
        "mse = np.mean((y_np - yhat_np) ** 2)\n",
        "\n",
        "# แสดงผลลัพธ์สำคัญ (สามารถตัดออกได้หากไม่ต้องการพิมพ์)\n",
        "print(\"รูปทรงเทนเซอร์:\")\n",
        "print(f\"  X (200×7):           {tuple(X.shape)}\")\n",
        "print(f\"  X_aug (200×8):       {tuple(X_aug.shape)}\")\n",
        "print(f\"  b (8×1):             {tuple(b.shape)}\")\n",
        "print(f\"  e (200×1):           {tuple(e.shape)}\")\n",
        "print(f\"  y (200×1):           {tuple(y.shape)}\")\n",
        "print(f\"  b_hat (8×1):         {tuple(b_hat.shape)}\")\n",
        "print(f\"  y_hat (200×1):       {tuple(y_hat.shape)}\")\n",
        "\n",
        "print(\"\\nค่าสัมประสิทธิ์ประมาณการ (b_hat):\")\n",
        "print(b_hat.squeeze().detach().numpy())\n",
        "\n",
        "print(f\"\\nMSE: {mse:.6f}\")"
      ]
    }
  ],
  "metadata": {
    "accelerator": "GPU",
    "colab": {
      "provenance": [],
      "include_colab_link": true
    },
    "gpuClass": "standard",
    "kernelspec": {
      "display_name": "Python 3 (ipykernel)",
      "language": "python",
      "name": "python3"
    },
    "language_info": {
      "codemirror_mode": {
        "name": "ipython",
        "version": 3
      },
      "file_extension": ".py",
      "mimetype": "text/x-python",
      "name": "python",
      "nbconvert_exporter": "python",
      "pygments_lexer": "ipython3",
      "version": "3.10.12"
    }
  },
  "nbformat": 4,
  "nbformat_minor": 0
}